{
 "cells": [
  {
   "cell_type": "markdown",
   "id": "cc76fa56",
   "metadata": {},
   "source": [
    "#### Data Source\n",
    "The dataset used in this analysis was obtained from the World Bank, specifically the World Development Indicators. The indicator code \"NY.GDP.PCAP.CD\" represents GDP per capita (current US$). You can access the data on the [World Bank's website](https://data.worldbank.org/indicator/NY.GDP.PCAP.CD?locations=KE).\n",
    "\n",
    "---\n",
    "\n",
    "#### Summary of the Dataset\n",
    "\n",
    "The dataset contains information on Kenya's GDP per capita from the year 1960 to the present. Here is a snapshot of the dataset:\n",
    "\n",
    "| Country Name | Country Code | Indicator Name | Indicator Code | Date       | GDP per capita(US$)| Annual Growth Rate (%) |\n",
    "|--------------|--------------|----------------|----------------|------------|--------------------|------------------------|\n",
    "| Kenya        | KEN          | GDP per capita | NY.GDP.PCAP.CD | 12/31/1960 | 102.08             | 0.00                   |\n",
    "| Kenya        | KEN          | GDP per capita | NY.GDP.PCAP.CD | 12/31/1961 | 98.54              |-3.47                   |\n",
    "\n",
    "---\n",
    "\n",
    "#### Credit\n",
    "The dataset was sourced from the World Bank, and the specific indicator can be found [here](https://data.worldbank.org/indicator/NY.GDP.PCAP.CD?locations=KE)."
   ]
  },
  {
   "cell_type": "markdown",
   "id": "945dbac0",
   "metadata": {},
   "source": [
    "Overview of the Dataset\n",
    "Let's start by loading and inspecting the dataset:"
   ]
  },
  {
   "cell_type": "code",
   "execution_count": 1,
   "id": "aa98a8c9",
   "metadata": {},
   "outputs": [],
   "source": [
    "import pandas as pd\n",
    "import numpy as np\n",
    "import matplotlib.pyplot as plt\n",
    "import seaborn as sns\n",
    "from scipy import stats\n",
    "from sklearn.model_selection import train_test_split\n",
    "from sklearn.linear_model import LinearRegression\n",
    "from sklearn.metrics import mean_squared_error\n",
    "%matplotlib inline\n",
    "sns.set(style=\"whitegrid\")"
   ]
  },
  {
   "cell_type": "code",
   "execution_count": 2,
   "id": "2a9256e8",
   "metadata": {
    "scrolled": true
   },
   "outputs": [
    {
     "data": {
      "text/html": [
       "<div>\n",
       "<style scoped>\n",
       "    .dataframe tbody tr th:only-of-type {\n",
       "        vertical-align: middle;\n",
       "    }\n",
       "\n",
       "    .dataframe tbody tr th {\n",
       "        vertical-align: top;\n",
       "    }\n",
       "\n",
       "    .dataframe thead th {\n",
       "        text-align: right;\n",
       "    }\n",
       "</style>\n",
       "<table border=\"1\" class=\"dataframe\">\n",
       "  <thead>\n",
       "    <tr style=\"text-align: right;\">\n",
       "      <th></th>\n",
       "      <th>Country Name</th>\n",
       "      <th>Country Code</th>\n",
       "      <th>Indicator Name</th>\n",
       "      <th>Indicator Code</th>\n",
       "      <th>Date</th>\n",
       "      <th>GDP per capita (current US$)</th>\n",
       "      <th>Annual Growth Rate (%)</th>\n",
       "    </tr>\n",
       "  </thead>\n",
       "  <tbody>\n",
       "    <tr>\n",
       "      <th>0</th>\n",
       "      <td>Kenya</td>\n",
       "      <td>KEN</td>\n",
       "      <td>GDP per capita (current US$)</td>\n",
       "      <td>NY.GDP.PCAP.CD</td>\n",
       "      <td>1960-12-31</td>\n",
       "      <td>102.08</td>\n",
       "      <td>0.00</td>\n",
       "    </tr>\n",
       "    <tr>\n",
       "      <th>1</th>\n",
       "      <td>Kenya</td>\n",
       "      <td>KEN</td>\n",
       "      <td>GDP per capita (current US$)</td>\n",
       "      <td>NY.GDP.PCAP.CD</td>\n",
       "      <td>1961-12-31</td>\n",
       "      <td>98.54</td>\n",
       "      <td>-3.47</td>\n",
       "    </tr>\n",
       "    <tr>\n",
       "      <th>2</th>\n",
       "      <td>Kenya</td>\n",
       "      <td>KEN</td>\n",
       "      <td>GDP per capita (current US$)</td>\n",
       "      <td>NY.GDP.PCAP.CD</td>\n",
       "      <td>1962-12-31</td>\n",
       "      <td>103.80</td>\n",
       "      <td>5.34</td>\n",
       "    </tr>\n",
       "    <tr>\n",
       "      <th>3</th>\n",
       "      <td>Kenya</td>\n",
       "      <td>KEN</td>\n",
       "      <td>GDP per capita (current US$)</td>\n",
       "      <td>NY.GDP.PCAP.CD</td>\n",
       "      <td>1963-12-31</td>\n",
       "      <td>106.54</td>\n",
       "      <td>2.64</td>\n",
       "    </tr>\n",
       "    <tr>\n",
       "      <th>4</th>\n",
       "      <td>Kenya</td>\n",
       "      <td>KEN</td>\n",
       "      <td>GDP per capita (current US$)</td>\n",
       "      <td>NY.GDP.PCAP.CD</td>\n",
       "      <td>1964-12-31</td>\n",
       "      <td>110.39</td>\n",
       "      <td>3.62</td>\n",
       "    </tr>\n",
       "  </tbody>\n",
       "</table>\n",
       "</div>"
      ],
      "text/plain": [
       "  Country Name Country Code                Indicator Name  Indicator Code  \\\n",
       "0        Kenya          KEN  GDP per capita (current US$)  NY.GDP.PCAP.CD   \n",
       "1        Kenya          KEN  GDP per capita (current US$)  NY.GDP.PCAP.CD   \n",
       "2        Kenya          KEN  GDP per capita (current US$)  NY.GDP.PCAP.CD   \n",
       "3        Kenya          KEN  GDP per capita (current US$)  NY.GDP.PCAP.CD   \n",
       "4        Kenya          KEN  GDP per capita (current US$)  NY.GDP.PCAP.CD   \n",
       "\n",
       "        Date  GDP per capita (current US$)    Annual Growth Rate (%)   \n",
       "0 1960-12-31                        102.08                       0.00  \n",
       "1 1961-12-31                         98.54                      -3.47  \n",
       "2 1962-12-31                        103.80                       5.34  \n",
       "3 1963-12-31                        106.54                       2.64  \n",
       "4 1964-12-31                        110.39                       3.62  "
      ]
     },
     "execution_count": 2,
     "metadata": {},
     "output_type": "execute_result"
    }
   ],
   "source": [
    "# Define the file path for the Excel file\n",
    "file_path = 'Dataset/Kenya GDP Per Capita 1960-2024.xlsx'\n",
    "\n",
    "# Load the data into a DataFrame\n",
    "df = pd.read_excel(file_path)\n",
    "\n",
    "# Display the first few rows of the DataFrame to verify the data has been loaded successfully\n",
    "df.head()"
   ]
  },
  {
   "cell_type": "code",
   "execution_count": 3,
   "id": "ae171607",
   "metadata": {
    "scrolled": true
   },
   "outputs": [
    {
     "name": "stdout",
     "output_type": "stream",
     "text": [
      "<class 'pandas.core.frame.DataFrame'>\n",
      "RangeIndex: 63 entries, 0 to 62\n",
      "Data columns (total 7 columns):\n",
      " #   Column                        Non-Null Count  Dtype         \n",
      "---  ------                        --------------  -----         \n",
      " 0   Country Name                  63 non-null     object        \n",
      " 1   Country Code                  63 non-null     object        \n",
      " 2   Indicator Name                63 non-null     object        \n",
      " 3   Indicator Code                63 non-null     object        \n",
      " 4   Date                          63 non-null     datetime64[ns]\n",
      " 5   GDP per capita (current US$)  63 non-null     float64       \n",
      " 6     Annual Growth Rate (%)      63 non-null     float64       \n",
      "dtypes: datetime64[ns](1), float64(2), object(4)\n",
      "memory usage: 3.6+ KB\n",
      "None\n"
     ]
    }
   ],
   "source": [
    "# Check data types and non-null counts\n",
    "print(df.info())"
   ]
  },
  {
   "cell_type": "code",
   "execution_count": 4,
   "id": "a34bc71b",
   "metadata": {
    "scrolled": false
   },
   "outputs": [
    {
     "name": "stdout",
     "output_type": "stream",
     "text": [
      "Missing values:\n",
      " Country Name                    0\n",
      "Country Code                    0\n",
      "Indicator Name                  0\n",
      "Indicator Code                  0\n",
      "Date                            0\n",
      "GDP per capita (current US$)    0\n",
      "  Annual Growth Rate (%)        0\n",
      "dtype: int64\n"
     ]
    }
   ],
   "source": [
    "# Check for missing values\n",
    "print(\"Missing values:\\n\", df.isnull().sum())"
   ]
  },
  {
   "cell_type": "code",
   "execution_count": 5,
   "id": "22366179",
   "metadata": {},
   "outputs": [
    {
     "name": "stdout",
     "output_type": "stream",
     "text": [
      "<class 'pandas.core.frame.DataFrame'>\n",
      "RangeIndex: 63 entries, 0 to 62\n",
      "Data columns (total 8 columns):\n",
      " #   Column                        Non-Null Count  Dtype         \n",
      "---  ------                        --------------  -----         \n",
      " 0   Country Name                  63 non-null     object        \n",
      " 1   Country Code                  63 non-null     object        \n",
      " 2   Indicator Name                63 non-null     object        \n",
      " 3   Indicator Code                63 non-null     object        \n",
      " 4   Date                          63 non-null     datetime64[ns]\n",
      " 5   GDP per capita (current US$)  63 non-null     float64       \n",
      " 6     Annual Growth Rate (%)      63 non-null     float64       \n",
      " 7   Year                          63 non-null     int64         \n",
      "dtypes: datetime64[ns](1), float64(2), int64(1), object(4)\n",
      "memory usage: 4.1+ KB\n"
     ]
    },
    {
     "data": {
      "text/html": [
       "<div>\n",
       "<style scoped>\n",
       "    .dataframe tbody tr th:only-of-type {\n",
       "        vertical-align: middle;\n",
       "    }\n",
       "\n",
       "    .dataframe tbody tr th {\n",
       "        vertical-align: top;\n",
       "    }\n",
       "\n",
       "    .dataframe thead th {\n",
       "        text-align: right;\n",
       "    }\n",
       "</style>\n",
       "<table border=\"1\" class=\"dataframe\">\n",
       "  <thead>\n",
       "    <tr style=\"text-align: right;\">\n",
       "      <th></th>\n",
       "      <th>Country Name</th>\n",
       "      <th>Country Code</th>\n",
       "      <th>Indicator Name</th>\n",
       "      <th>Indicator Code</th>\n",
       "      <th>Date</th>\n",
       "      <th>GDP per capita (current US$)</th>\n",
       "      <th>Annual Growth Rate (%)</th>\n",
       "      <th>Year</th>\n",
       "    </tr>\n",
       "  </thead>\n",
       "  <tbody>\n",
       "    <tr>\n",
       "      <th>0</th>\n",
       "      <td>Kenya</td>\n",
       "      <td>KEN</td>\n",
       "      <td>GDP per capita (current US$)</td>\n",
       "      <td>NY.GDP.PCAP.CD</td>\n",
       "      <td>1960-12-31</td>\n",
       "      <td>102.08</td>\n",
       "      <td>0.00</td>\n",
       "      <td>1960</td>\n",
       "    </tr>\n",
       "    <tr>\n",
       "      <th>1</th>\n",
       "      <td>Kenya</td>\n",
       "      <td>KEN</td>\n",
       "      <td>GDP per capita (current US$)</td>\n",
       "      <td>NY.GDP.PCAP.CD</td>\n",
       "      <td>1961-12-31</td>\n",
       "      <td>98.54</td>\n",
       "      <td>-3.47</td>\n",
       "      <td>1961</td>\n",
       "    </tr>\n",
       "    <tr>\n",
       "      <th>2</th>\n",
       "      <td>Kenya</td>\n",
       "      <td>KEN</td>\n",
       "      <td>GDP per capita (current US$)</td>\n",
       "      <td>NY.GDP.PCAP.CD</td>\n",
       "      <td>1962-12-31</td>\n",
       "      <td>103.80</td>\n",
       "      <td>5.34</td>\n",
       "      <td>1962</td>\n",
       "    </tr>\n",
       "    <tr>\n",
       "      <th>3</th>\n",
       "      <td>Kenya</td>\n",
       "      <td>KEN</td>\n",
       "      <td>GDP per capita (current US$)</td>\n",
       "      <td>NY.GDP.PCAP.CD</td>\n",
       "      <td>1963-12-31</td>\n",
       "      <td>106.54</td>\n",
       "      <td>2.64</td>\n",
       "      <td>1963</td>\n",
       "    </tr>\n",
       "    <tr>\n",
       "      <th>4</th>\n",
       "      <td>Kenya</td>\n",
       "      <td>KEN</td>\n",
       "      <td>GDP per capita (current US$)</td>\n",
       "      <td>NY.GDP.PCAP.CD</td>\n",
       "      <td>1964-12-31</td>\n",
       "      <td>110.39</td>\n",
       "      <td>3.62</td>\n",
       "      <td>1964</td>\n",
       "    </tr>\n",
       "  </tbody>\n",
       "</table>\n",
       "</div>"
      ],
      "text/plain": [
       "  Country Name Country Code                Indicator Name  Indicator Code  \\\n",
       "0        Kenya          KEN  GDP per capita (current US$)  NY.GDP.PCAP.CD   \n",
       "1        Kenya          KEN  GDP per capita (current US$)  NY.GDP.PCAP.CD   \n",
       "2        Kenya          KEN  GDP per capita (current US$)  NY.GDP.PCAP.CD   \n",
       "3        Kenya          KEN  GDP per capita (current US$)  NY.GDP.PCAP.CD   \n",
       "4        Kenya          KEN  GDP per capita (current US$)  NY.GDP.PCAP.CD   \n",
       "\n",
       "        Date  GDP per capita (current US$)    Annual Growth Rate (%)   Year  \n",
       "0 1960-12-31                        102.08                       0.00  1960  \n",
       "1 1961-12-31                         98.54                      -3.47  1961  \n",
       "2 1962-12-31                        103.80                       5.34  1962  \n",
       "3 1963-12-31                        106.54                       2.64  1963  \n",
       "4 1964-12-31                        110.39                       3.62  1964  "
      ]
     },
     "execution_count": 5,
     "metadata": {},
     "output_type": "execute_result"
    }
   ],
   "source": [
    "# Convert 'Date' column to datetime type\n",
    "df['Date'] = pd.to_datetime(df['Date'])\n",
    "\n",
    "# Convert 'GDP per capita (current US$)' column to numeric\n",
    "df['GDP per capita (current US$)'] = pd.to_numeric(df['GDP per capita (current US$)'], errors='coerce')\n",
    "\n",
    "# Extract year from 'Date' and create a new 'Year' column\n",
    "df['Year'] = df['Date'].dt.year\n",
    "\n",
    "# Verify the data types and display the first few rows of the cleaned DataFrame\n",
    "df.info()\n",
    "df.head()"
   ]
  },
  {
   "cell_type": "markdown",
   "id": "6cede9d3",
   "metadata": {},
   "source": [
    "---\n",
    "\n",
    "## Data Exploration and Analysis\n",
    "\n",
    "#### Univariate Non-Graphical Analysis\n",
    "Descriptive Statistics"
   ]
  },
  {
   "cell_type": "code",
   "execution_count": 6,
   "id": "e47dbc06",
   "metadata": {},
   "outputs": [
    {
     "name": "stdout",
     "output_type": "stream",
     "text": [
      "       GDP per capita (current US$)    Annual Growth Rate (%)          Year\n",
      "count                     63.000000                  63.000000    63.000000\n",
      "mean                     604.821270                   5.450635  1991.000000\n",
      "std                      571.679683                  10.513325    18.330303\n",
      "min                       98.540000                 -31.970000  1960.000000\n",
      "25%                      232.635000                  -0.115000  1975.500000\n",
      "50%                      381.710000                   5.340000  1991.000000\n",
      "75%                      769.795000                  12.285000  2006.500000\n",
      "max                     2099.300000                  33.790000  2022.000000\n"
     ]
    }
   ],
   "source": [
    "# Display descriptive statistics of the DataFrame\n",
    "summary_stats = df.describe()\n",
    "print(summary_stats)"
   ]
  },
  {
   "cell_type": "markdown",
   "id": "dd369776",
   "metadata": {},
   "source": [
    "#### Multivariate Non-Graphical Analysis\n",
    "\n",
    "##### Correlation Matrix\n"
   ]
  },
  {
   "cell_type": "code",
   "execution_count": 7,
   "id": "2811c912",
   "metadata": {
    "scrolled": true
   },
   "outputs": [
    {
     "name": "stdout",
     "output_type": "stream",
     "text": [
      "                              GDP per capita (current US$)  \\\n",
      "GDP per capita (current US$)                      1.000000   \n",
      "  Annual Growth Rate (%)                          0.084386   \n",
      "Year                                              0.851406   \n",
      "\n",
      "                                Annual Growth Rate (%)       Year  \n",
      "GDP per capita (current US$)                   0.084386  0.851406  \n",
      "  Annual Growth Rate (%)                       1.000000  0.085729  \n",
      "Year                                           0.085729  1.000000  \n"
     ]
    }
   ],
   "source": [
    "# Display correlation matrix\n",
    "correlation_matrix = df.corr()\n",
    "print(correlation_matrix)"
   ]
  },
  {
   "cell_type": "markdown",
   "id": "86217cf9",
   "metadata": {},
   "source": [
    "#### Univariate Graphical Analysis\n",
    "##### Histogram of GDP per Capita"
   ]
  },
  {
   "cell_type": "code",
   "execution_count": 8,
   "id": "668b08e6",
   "metadata": {},
   "outputs": [
    {
     "data": {
      "image/png": "[encoded data removed]",
      "text/plain": [
       "<Figure size 720x432 with 1 Axes>"
      ]
     },
     "metadata": {},
     "output_type": "display_data"
    }
   ],
   "source": [
    "plt.figure(figsize=(10, 6))\n",
    "sns.histplot(df['GDP per capita (current US$)'].dropna(), bins=20, kde=True, color='skyblue', edgecolor='black')\n",
    "plt.title('Distribution of GDP per Capita')\n",
    "plt.xlabel('GDP per Capita (current US$)')\n",
    "plt.ylabel('Frequency')\n",
    "plt.show()"
   ]
  },
  {
   "cell_type": "markdown",
   "id": "d677966f",
   "metadata": {},
   "source": [
    "##### Time Series Analysis of GDP per Capita"
   ]
  },
  {
   "cell_type": "code",
   "execution_count": 9,
   "id": "95a5726d",
   "metadata": {},
   "outputs": [
    {
     "data": {
      "image/png": "[encoded data removed]",
      "text/plain": [
       "<Figure size 1008x432 with 1 Axes>"
      ]
     },
     "metadata": {},
     "output_type": "display_data"
    }
   ],
   "source": [
    "# Time Series Analysis\n",
    "plt.figure(figsize=(14, 6))\n",
    "plt.plot(df['Date'], df['GDP per capita (current US$)'], marker='o', linestyle='-')\n",
    "plt.title('Time Series of GDP per Capita for Kenya')\n",
    "plt.xlabel('Year')\n",
    "plt.ylabel('GDP per Capita (current US$)')\n",
    "plt.grid(True)\n",
    "plt.show()"
   ]
  },
  {
   "cell_type": "markdown",
   "id": "d263d28a",
   "metadata": {},
   "source": [
    "#### Multivariate Graphical Analysis\n",
    "##### Correlation Analysis"
   ]
  },
  {
   "cell_type": "code",
   "execution_count": 10,
   "id": "30c7b5a4",
   "metadata": {},
   "outputs": [
    {
     "data": {
      "image/png": "[encoded data removed]",
      "text/plain": [
       "<Figure size 720x576 with 2 Axes>"
      ]
     },
     "metadata": {},
     "output_type": "display_data"
    }
   ],
   "source": [
    "# Correlation Analysis\n",
    "correlation_matrix = df.corr()\n",
    "plt.figure(figsize=(10, 8))\n",
    "sns.heatmap(correlation_matrix, annot=True, cmap='coolwarm', fmt='.2f', linewidths=0.5)\n",
    "plt.title('Correlation Matrix for Kenya')\n",
    "plt.show()"
   ]
  },
  {
   "cell_type": "code",
   "execution_count": 11,
   "id": "d79b12fb",
   "metadata": {},
   "outputs": [
    {
     "data": {
      "text/html": [
       "<div>\n",
       "<style scoped>\n",
       "    .dataframe tbody tr th:only-of-type {\n",
       "        vertical-align: middle;\n",
       "    }\n",
       "\n",
       "    .dataframe tbody tr th {\n",
       "        vertical-align: top;\n",
       "    }\n",
       "\n",
       "    .dataframe thead th {\n",
       "        text-align: right;\n",
       "    }\n",
       "</style>\n",
       "<table border=\"1\" class=\"dataframe\">\n",
       "  <thead>\n",
       "    <tr style=\"text-align: right;\">\n",
       "      <th></th>\n",
       "      <th>GDP per capita (current US$)</th>\n",
       "      <th>Annual Growth Rate (%)</th>\n",
       "      <th>Year</th>\n",
       "    </tr>\n",
       "    <tr>\n",
       "      <th>Country Name</th>\n",
       "      <th></th>\n",
       "      <th></th>\n",
       "      <th></th>\n",
       "    </tr>\n",
       "  </thead>\n",
       "  <tbody>\n",
       "    <tr>\n",
       "      <th>Kenya</th>\n",
       "      <td>604.82127</td>\n",
       "      <td>5.450635</td>\n",
       "      <td>1991</td>\n",
       "    </tr>\n",
       "  </tbody>\n",
       "</table>\n",
       "</div>"
      ],
      "text/plain": [
       "              GDP per capita (current US$)    Annual Growth Rate (%)   Year\n",
       "Country Name                                                               \n",
       "Kenya                            604.82127                   5.450635  1991"
      ]
     },
     "execution_count": 11,
     "metadata": {},
     "output_type": "execute_result"
    }
   ],
   "source": [
    "# Country-wise Analysis\n",
    "df_by_country = df.groupby('Country Name').mean()\n",
    "df_by_country"
   ]
  },
  {
   "cell_type": "markdown",
   "id": "a94fd86a",
   "metadata": {},
   "source": [
    "---\n",
    "### Model Building\n",
    "\n",
    "#### Model Analysis-  Linear Regression:"
   ]
  },
  {
   "cell_type": "code",
   "execution_count": 12,
   "id": "ba9bf25d",
   "metadata": {},
   "outputs": [
    {
     "name": "stdout",
     "output_type": "stream",
     "text": [
      "Mean Squared Error: 139624.18975688514\n"
     ]
    }
   ],
   "source": [
    "# Extracting only the 'Year' column\n",
    "X = df[['Year']]\n",
    "y = df['GDP per capita (current US$)']\n",
    "\n",
    "# Split the data into training and testing sets\n",
    "X_train, X_test, y_train, y_test = train_test_split(X, y, test_size=0.2, random_state=42)\n",
    "\n",
    "# Train the linear regression model\n",
    "model = LinearRegression()\n",
    "model.fit(X_train, y_train)\n",
    "\n",
    "# Make predictions on the test set\n",
    "predictions = model.predict(X_test)\n",
    "\n",
    "# Evaluate the model using mean squared error\n",
    "mse = mean_squared_error(y_test, predictions)\n",
    "print(f'Mean Squared Error: {mse}')"
   ]
  },
  {
   "cell_type": "markdown",
   "id": "7da634d2",
   "metadata": {},
   "source": [
    "#### Model Analysis- Decision Trees:\n",
    "\n",
    "Implement a decision tree model for predicting GDP."
   ]
  },
  {
   "cell_type": "code",
   "execution_count": 13,
   "id": "e0c2839e",
   "metadata": {},
   "outputs": [
    {
     "name": "stdout",
     "output_type": "stream",
     "text": [
      "Mean Squared Error (Decision Tree): 2133.2164538461566\n"
     ]
    }
   ],
   "source": [
    "from sklearn.tree import DecisionTreeRegressor\n",
    "\n",
    "# Assuming 'X' contains relevant features and 'y' is the target variable (GDP)\n",
    "model_tree = DecisionTreeRegressor(random_state=42)\n",
    "model_tree.fit(X_train, y_train)\n",
    "\n",
    "# Make predictions\n",
    "predictions_tree = model_tree.predict(X_test)\n",
    "\n",
    "# Evaluate the model\n",
    "mse_tree = mean_squared_error(y_test, predictions_tree)\n",
    "\n",
    "print(f'Mean Squared Error (Decision Tree): {mse_tree}')"
   ]
  },
  {
   "cell_type": "markdown",
   "id": "c7fbfa71",
   "metadata": {},
   "source": [
    "#### Model Analysis-  Random Forest: "
   ]
  },
  {
   "cell_type": "code",
   "execution_count": 14,
   "id": "2a52f301",
   "metadata": {},
   "outputs": [
    {
     "name": "stdout",
     "output_type": "stream",
     "text": [
      "Mean Squared Error (Random Forest): 942.7273354115644\n"
     ]
    }
   ],
   "source": [
    "from sklearn.ensemble import RandomForestRegressor\n",
    "\n",
    "# Assuming 'X' contains relevant features and 'y' is the target variable (GDP)\n",
    "model_rf = RandomForestRegressor(random_state=42)\n",
    "model_rf.fit(X_train, y_train)\n",
    "\n",
    "# Make predictions\n",
    "predictions_rf = model_rf.predict(X_test)\n",
    "\n",
    "# Evaluate the model\n",
    "mse_rf = mean_squared_error(y_test, predictions_rf)\n",
    "\n",
    "print(f'Mean Squared Error (Random Forest): {mse_rf}')\n"
   ]
  },
  {
   "cell_type": "markdown",
   "id": "787517b5",
   "metadata": {},
   "source": [
    "#### Model Analysis-  Neural Network:"
   ]
  },
  {
   "cell_type": "code",
   "execution_count": 15,
   "id": "93930875",
   "metadata": {},
   "outputs": [
    {
     "name": "stdout",
     "output_type": "stream",
     "text": [
      "Mean Squared Error (Neural Network): 696419.9693701508\n"
     ]
    },
    {
     "name": "stderr",
     "output_type": "stream",
     "text": [
      "C:\\Users\\HP\\anaconda3\\envs\\learn-env\\lib\\site-packages\\sklearn\\neural_network\\_multilayer_perceptron.py:691: ConvergenceWarning: Stochastic Optimizer: Maximum iterations (1000) reached and the optimization hasn't converged yet.\n",
      "  warnings.warn(\n"
     ]
    }
   ],
   "source": [
    "from sklearn.neural_network import MLPRegressor\n",
    "from sklearn.preprocessing import StandardScaler\n",
    "\n",
    "# Scale the features for Neural Network\n",
    "scaler = StandardScaler()\n",
    "X_train_scaled = scaler.fit_transform(X_train)\n",
    "X_test_scaled = scaler.transform(X_test)\n",
    "\n",
    "# Assuming 'X' contains relevant features and 'y' is the target variable (GDP)\n",
    "model_nn = MLPRegressor(random_state=42, max_iter=1000)\n",
    "model_nn.fit(X_train_scaled, y_train)\n",
    "\n",
    "# Make predictions\n",
    "predictions_nn = model_nn.predict(X_test_scaled)\n",
    "\n",
    "# Evaluate the model\n",
    "mse_nn = mean_squared_error(y_test, predictions_nn)\n",
    "\n",
    "print(f'Mean Squared Error (Neural Network): {mse_nn}')"
   ]
  }
 ],
 "metadata": {
  "kernelspec": {
   "display_name": "Python (learn-env)",
   "language": "python",
   "name": "learn-env"
  },
  "language_info": {
   "codemirror_mode": {
    "name": "ipython",
    "version": 3
   },
   "file_extension": ".py",
   "mimetype": "text/x-python",
   "name": "python",
   "nbconvert_exporter": "python",
   "pygments_lexer": "ipython3",
   "version": "3.8.5"
  }
 },
 "nbformat": 4,
 "nbformat_minor": 5
}
